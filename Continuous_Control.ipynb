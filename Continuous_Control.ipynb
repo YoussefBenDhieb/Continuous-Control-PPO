{
 "cells": [
  {
   "cell_type": "markdown",
   "metadata": {},
   "source": [
    "# Continuous Control\n",
    "\n",
    "---\n",
    "\n",
    "In this notebook, we will implement a PPO agent in order to solve the environment of the second project of the [Deep Reinforcement Learning Nanodegree](https://www.udacity.com/course/deep-reinforcement-learning-nanodegree--nd893) program.\n",
    "\n",
    "### 1. Start the Environment\n",
    "\n",
    "We begin by importing the necessary packages.  If the code cell below returns an error, please revisit the project instructions to double-check that you have installed [Unity ML-Agents](https://github.com/Unity-Technologies/ml-agents/blob/master/docs/Installation.md) and [NumPy](http://www.numpy.org/)."
   ]
  },
  {
   "cell_type": "code",
   "execution_count": null,
   "metadata": {},
   "outputs": [],
   "source": [
    "import numpy as np\n",
    "import matplotlib.pyplot as plt\n",
    "%matplotlib inline\n",
    "\n",
    "import torch\n",
    "import torch.nn as nn\n",
    "import torch.nn.functional as F\n",
    "import torch.optim as optim\n",
    "from unityagents import UnityEnvironment\n",
    "import progressbar as pb\n",
    "\n",
    "# check which device is being used. \n",
    "device = torch.device(\"cuda:0\" if torch.cuda.is_available() else \"cpu\")\n",
    "print(\"using device: \",device)"
   ]
  },
  {
   "cell_type": "markdown",
   "metadata": {},
   "source": [
    "Next, we will start the environment!  **_Before running the code cell below_**, change the `file_name` parameter to match the location of the Unity environment that you downloaded.\n",
    "\n",
    "- **Mac**: `\"path/to/Reacher.app\"`\n",
    "- **Windows** (x86): `\"path/to/Reacher_Windows_x86/Reacher.exe\"`\n",
    "- **Windows** (x86_64): `\"path/to/Reacher_Windows_x86_64/Reacher.exe\"`\n",
    "- **Linux** (x86): `\"path/to/Reacher_Linux/Reacher.x86\"`\n",
    "- **Linux** (x86_64): `\"path/to/Reacher_Linux/Reacher.x86_64\"`\n",
    "- **Linux** (x86, headless): `\"path/to/Reacher_Linux_NoVis/Reacher.x86\"`\n",
    "- **Linux** (x86_64, headless): `\"path/to/Reacher_Linux_NoVis/Reacher.x86_64\"`\n",
    "\n",
    "For instance, if you are using a Mac, then you downloaded `Reacher.app`.  If this file is in the same folder as the notebook, then the line below should appear as follows:\n",
    "```\n",
    "env = UnityEnvironment(file_name=\"Reacher.app\")\n",
    "```"
   ]
  },
  {
   "cell_type": "code",
   "execution_count": null,
   "metadata": {},
   "outputs": [],
   "source": [
    "env = UnityEnvironment(file_name='./Reacher_Linux/Reacher.x86_64')"
   ]
  },
  {
   "cell_type": "markdown",
   "metadata": {},
   "source": [
    "Environments contain **_brains_** which are responsible for deciding the actions of their associated agents. Here we check for the first brain available, and set it as the default brain we will be controlling from Python."
   ]
  },
  {
   "cell_type": "code",
   "execution_count": null,
   "metadata": {},
   "outputs": [],
   "source": [
    "# get the default brain\n",
    "brain_name = env.brain_names[0]\n",
    "brain = env.brains[brain_name]"
   ]
  },
  {
   "cell_type": "markdown",
   "metadata": {},
   "source": [
    "### 2. Examine the State and Action Spaces\n",
    "\n",
    "In this environment, a double-jointed arm can move to target locations. A reward of `+0.1` is provided for each step that the agent's hand is in the goal location. Thus, the goal of your agent is to maintain its position at the target location for as many time steps as possible.\n",
    "\n",
    "The observation space consists of `33` variables corresponding to position, rotation, velocity, and angular velocities of the arm.  Each action is a vector with four numbers, corresponding to torque applicable to two joints.  Every entry in the action vector must be a number between `-1` and `1`.\n",
    "\n",
    "Run the code cell below to print some information about the environment."
   ]
  },
  {
   "cell_type": "code",
   "execution_count": null,
   "metadata": {},
   "outputs": [],
   "source": [
    "# reset the environment\n",
    "env_info = env.reset(train_mode=True)[brain_name]\n",
    "\n",
    "# number of agents\n",
    "num_agents = len(env_info.agents)\n",
    "print('Number of agents:', num_agents)\n",
    "\n",
    "# size of each action\n",
    "action_size = brain.vector_action_space_size\n",
    "print('Size of each action:', action_size)\n",
    "\n",
    "# examine the state space \n",
    "states = env_info.vector_observations\n",
    "state_size = states.shape[1]\n",
    "print('There are {} agents. Each observes a state with length: {}'.format(states.shape[0], state_size))\n",
    "print('The state for the first agent looks like:', states[0])"
   ]
  },
  {
   "cell_type": "markdown",
   "metadata": {},
   "source": [
    "### 3. Take Random Actions in the Environment\n",
    "\n",
    "In the next code cell, you will learn how to use the Python API to control the agent and receive feedback from the environment.\n",
    "\n",
    "Once this cell is executed, you will watch the agent's performance, if it selects an action at random with each time step.  A window should pop up that allows you to observe the agent, as it moves through the environment.  \n",
    "\n",
    "Of course, as part of the project, you'll have to change the code so that the agent is able to use its experience to gradually choose better actions when interacting with the environment!"
   ]
  },
  {
   "cell_type": "code",
   "execution_count": null,
   "metadata": {},
   "outputs": [],
   "source": [
    "env_info = env.reset(train_mode=False)[brain_name]     # reset the environment    \n",
    "states = env_info.vector_observations                  # get the current state (for each agent)\n",
    "scores = np.zeros(num_agents)                          # initialize the score (for each agent)\n",
    "for t in range(500):\n",
    "    actions = np.random.randn(num_agents, action_size) # select an action (for each agent)\n",
    "    actions = np.clip(actions, -1, 1)                  # all actions between -1 and 1\n",
    "    env_info = env.step(actions)[brain_name]           # send all actions to tne environment\n",
    "    next_states = env_info.vector_observations         # get next state (for each agent)\n",
    "    rewards = env_info.rewards                         # get reward (for each agent)\n",
    "    dones = env_info.local_done                        # see if episode finished\n",
    "    scores += env_info.rewards                         # update the score (for each agent)\n",
    "    states = next_states                               # roll over states to next time step\n",
    "    if np.any(dones):                                  # exit loop if episode finished\n",
    "        break\n",
    "print('Total score (averaged over agents) this episode: {}'.format(np.mean(scores)))"
   ]
  },
  {
   "cell_type": "markdown",
   "metadata": {},
   "source": [
    "### 4. Train an agent using PPO\n",
    "\n",
    "#### 4.1. Policy implementation\n",
    "\n",
    "Here, we implement our policy"
   ]
  },
  {
   "cell_type": "code",
   "execution_count": null,
   "metadata": {},
   "outputs": [],
   "source": [
    "class Policy(nn.Module):\n",
    "\n",
    "    def __init__(self, state_size, action_size):\n",
    "        super(Policy, self).__init__()        \n",
    "        # actor network\n",
    "        self.state_size = state_size\n",
    "        self.action_size = action_size\n",
    "        self.fc1_actor = nn.Linear(self.state_size, 512)\n",
    "        self.fc2_actor = nn.Linear(512, 512)\n",
    "        self.fc3_actor = nn.Linear(512, action_size)\n",
    "        \n",
    "        #critic network\n",
    "        self.fc1_critic = nn.Linear(self.state_size, 512)\n",
    "        self.fc2_critic = nn.Linear(512, 512)\n",
    "        self.fc3_critic = nn.Linear(512, 1)\n",
    "        \n",
    "        self.std = nn.Parameter(torch.ones(1, self.action_size))\n",
    "        self.to(device)\n",
    "\n",
    "    def forward(self, x, action=None):\n",
    "        x = torch.Tensor(x).cuda()\n",
    "        actor = F.relu(self.fc1_actor(x))\n",
    "        actor = F.relu(self.fc2_actor(actor))\n",
    "        mean = F.tanh(self.fc3_actor(actor))\n",
    "        \n",
    "        critic = F.relu(self.fc1_critic(x))\n",
    "        critic = F.relu(self.fc2_critic(critic))\n",
    "        v = self.fc3_critic(critic)\n",
    "        \n",
    "        dist = torch.distributions.Normal(mean, self.std)\n",
    "        \n",
    "        if action is None:\n",
    "            action = dist.sample()\n",
    "        log_prob = torch.sum(dist.log_prob(action), dim=1, keepdim=True)\n",
    "        entropy = torch.Tensor(np.zeros((log_prob.size(0), 1)))\n",
    "        return action, log_prob, entropy, v\n",
    "\n",
    "# instanciate the policy\n",
    "policy =Policy(state_size, action_size).to(device)"
   ]
  },
  {
   "cell_type": "markdown",
   "metadata": {},
   "source": [
    "#### 4.2. Function Definitions\n",
    "Here we will define key functions for training.\n",
    "\n",
    "First, we need a function to collect trajectories:"
   ]
  },
  {
   "cell_type": "code",
   "execution_count": null,
   "metadata": {},
   "outputs": [],
   "source": [
    "def collect_trajectories(env, policy, tmax=2000, nrand=2):\n",
    "    \n",
    "    #initialize returning lists and start the game!\n",
    "    state_list=[]\n",
    "    reward_list=[]\n",
    "    prob_list=[]\n",
    "    action_list=[]\n",
    "    value_list=[]\n",
    "    is_done_list=[]\n",
    "    \n",
    "    # get the default brain\n",
    "    brain_name = env.brain_names[0]\n",
    "    brain = env.brains[brain_name]\n",
    "    \n",
    "    # reset the environment\n",
    "    env_info = env.reset(train_mode=True)[brain_name]\n",
    "\n",
    "    # number of agents\n",
    "    n = len(env_info.agents)\n",
    "    \n",
    "    #get first states\n",
    "    state = env_info.vector_observations\n",
    "    \n",
    "    While True:\n",
    "        action, log_prob, _, v = policy(state)\n",
    "        action_list.append(action.detach())\n",
    "        log_prob = log_prob.detach()\n",
    "        v = v.detach()\n",
    "        env_info = env.step(action.cpu().numpy())[brain_name]\n",
    "        next_state = env_info.vector_observations\n",
    "        reward = np.asarray(env_info.rewards)\n",
    "        reward = torch.from_numpy(reward).cuda().float().unsqueeze(1)\n",
    "        is_done = np.array([1 if t else 0 for t in env_info.local_done])\n",
    "        is_done = torch.Tensor(1-is_done).cuda().float().unsqueeze(1)\n",
    "        # store the result\n",
    "        state_list.append(state)\n",
    "        reward_list.append(reward)\n",
    "        prob_list.append(log_prob)\n",
    "        is_done_list.append(is_done)\n",
    "        value_list.append(v)\n",
    "        state = next_state\n",
    "        # stop if any of the trajectories is done\n",
    "        # we want all the lists to be retangular\n",
    "        if np.any(is_done):\n",
    "            break\n",
    "    \n",
    "    # return log_probs, states, rewards, actions, critic_values, dones\n",
    "    return prob_list, state_list, reward_list, action_list, value_list, is_done_list"
   ]
  },
  {
   "cell_type": "markdown",
   "metadata": {},
   "source": [
    "Then we will implement the clipped surrogate function according to these equations:\n",
    "\n",
    "$\\frac{1}{T}\\sum^T_t \\min\\left\\{R_{t}^{\\rm future}\\frac{\\pi_{\\theta'}(a_t|s_t)}{\\pi_{\\theta}(a_t|s_t)},R_{t}^{\\rm future}{\\rm clip}_{\\epsilon}\\!\\left(\\frac{\\pi_{\\theta'}(a_t|s_t)}{\\pi_{\\theta}(a_t|s_t)}\\right)\\right\\}$\n",
    "\n",
    "the ${\\rm clip}_\\epsilon$ function is implemented in pytorch as ```torch.clamp(ratio, 1-epsilon, 1+epsilon)```"
   ]
  },
  {
   "cell_type": "code",
   "execution_count": null,
   "metadata": {},
   "outputs": [],
   "source": [
    "def clipped_surrogate(policy, old_probs, states, rewards, actions, values, is_done,\n",
    "                      discount=0.995,\n",
    "                      epsilon=0.1, beta=0.01, tau = 0.95, gradient_clip=0.2):\n",
    "    \n",
    "    r = torch.tensor(values[-1], dtype=torch.float, device=device)\n",
    "    returns = [0 for i in range(len(values)-1)]\n",
    "    advantages = [0 for i in range(len(values)-1)]\n",
    "    a = torch.Tensor(np.zeros((20, 1))).cuda().float()\n",
    "    \n",
    "    for i in reversed(range(len(states) - 1)):\n",
    "        \n",
    "        next_value = values[i+1]\n",
    "        r = rewards[i] + discount * is_done[i] * r\n",
    "        td_error = rewards[i] + discount * next_value.detach() * is_done[i] - values[i].detach()\n",
    "        a = a * tau * discount * is_done[i] + td_error\n",
    "        returns[i] = r\n",
    "        advantages[i] = a\n",
    "    \n",
    "    advantages = torch.cat(advantages, dim=0).cuda().float()\n",
    "    advantages = (advantages - advantages.mean()) / advantages.std()\n",
    "    \n",
    "    values = values[:-1]\n",
    "    states = np.asarray(states[:-1])\n",
    "    actions = actions[:-1]\n",
    "    states = torch.cat([torch.tensor(state).float() for state in states], dim=0)\n",
    "    actions = torch.cat([torch.tensor(action).float() for action in actions], dim=0)\n",
    "    old_probs = torch.cat(old_probs[:-1],dim=0).cuda().float()\n",
    "    \n",
    "    # run the policy\n",
    "    _, new_probs, entropy_loss, new_values = policy(states, actions)\n",
    "    \n",
    "    #compute the policy loss\n",
    "    ratio = (new_probs - old_probs).exp()\n",
    "    obj = ratio * advantages\n",
    "    obj_clipped = ratio.clamp(1.0 - epsilon, 1.0 + epsilon) * advantages\n",
    "    policy_loss = -torch.min(obj, obj_clipped).mean(0) - beta * entropy_loss.mean().cuda().float()\n",
    "    \n",
    "    #compute the value loss\n",
    "    value_loss = 0.5 * (torch.cat(returns, dim=0) - new_values).pow(2).mean()\n",
    "    \n",
    "    optimizer.zero_grad()\n",
    "    (policy_loss + value_loss).backward()\n",
    "    nn.utils.clip_grad_norm_(policy.parameters(), gradient_clip)\n",
    "    optimizer.step()\n",
    "    return"
   ]
  },
  {
   "cell_type": "markdown",
   "metadata": {},
   "source": [
    "#### 4.3. Training\n",
    "We are now ready to train our policy!\n",
    "WARNING: make sure to turn on GPU, which also enables multicore processing."
   ]
  },
  {
   "cell_type": "code",
   "execution_count": null,
   "metadata": {},
   "outputs": [],
   "source": [
    "# training loop max iterations\n",
    "episode = 2000\n",
    "\n",
    "widget = ['training loop: ', pb.Percentage(), ' ', \n",
    "          pb.Bar(), ' ', pb.ETA() ]\n",
    "timer = pb.ProgressBar(widgets=widget, maxval=episode).start()\n",
    "\n",
    "discount_rate = .99\n",
    "epsilon = 0.1\n",
    "beta = .01\n",
    "tmax = 1000\n",
    "SGD_epoch = 30\n",
    "gradient_clip = 0.2\n",
    "# keep track of progress\n",
    "mean_rewards = []\n",
    "scores_window = deque(maxlen=100)\n",
    "\n",
    "# we use the adam optimizer with learning rate 3e-4\n",
    "optimizer = optim.Adam(policy.parameters(), lr=3e-4)\n",
    "\n",
    "for i_episode in range(episode):\n",
    "\n",
    "    # collect trajectories\n",
    "    old_probs, states, rewards, actions, values, is_done = collect_trajectories(env, policy, tmax=tmax)\n",
    "    #compute total rewards    \n",
    "    total_rewards = np.sum(torch.stack(rewards).cpu().numpy(), axis=0)\n",
    "\n",
    "    # gradient ascent step\n",
    "    for _ in range(SGD_epoch):        \n",
    "        clipped_surrogate(policy, old_probs, states, rewards, actions, values, is_done,\n",
    "                                          epsilon=epsilon, beta=beta)\n",
    "    \n",
    "    # the clipping parameter reduces as time goes on\n",
    "    epsilon*=.999\n",
    "    \n",
    "    # the regulation term also reduces\n",
    "    # this reduces exploration in later runs\n",
    "    beta*=.995\n",
    "    \n",
    "    # get the average reward of the parallel environments\n",
    "    mean_rewards.append(np.mean(total_rewards))\n",
    "    scores_window.append(np.mean(total_rewards))\n",
    "    \n",
    "    # display some progress every 20 iterations\n",
    "    if (e+1)%20 ==0 :\n",
    "        print(\"Episode: {0:d}, score: {1:f}\".format(e+1,np.mean(total_rewards)))\n",
    "        print(total_rewards)\n",
    "    if np.mean(scores_window)>=13.0:\n",
    "            print('\\nEnvironment solved in {:d} episodes!\\tAverage Score: {:.2f}'.format(i_episode, np.mean(scores_window)))\n",
    "            torch.save(policy.state_dict(), 'ppo_checkpoint.pth')\n",
    "            break    \n",
    "    # update progress widget bar\n",
    "    timer.update(e+1)\n",
    "    \n",
    "timer.finish()"
   ]
  },
  {
   "cell_type": "markdown",
   "metadata": {},
   "source": [
    "### 5. Plot Results"
   ]
  },
  {
   "cell_type": "code",
   "execution_count": null,
   "metadata": {},
   "outputs": [],
   "source": [
    "# plot the scores\n",
    "fig = plt.figure()\n",
    "ax = fig.add_subplot(111)\n",
    "plt.plot(np.arange(len(mean_rewards)), mean_rewards)\n",
    "plt.ylabel('Score')\n",
    "plt.xlabel('Episode #')\n",
    "plt.show()"
   ]
  },
  {
   "cell_type": "markdown",
   "metadata": {},
   "source": [
    "### 6. Watch a Smart Agent!\n",
    "\n",
    "In the next code cell, we will load the trained weights from file to watch the agent playing!"
   ]
  },
  {
   "cell_type": "code",
   "execution_count": null,
   "metadata": {},
   "outputs": [],
   "source": [
    "# load the weights from file\n",
    "policy.load_state_dict(torch.load('ppo_checkpoint.pth'))\n",
    "\n",
    "env_info = env.reset(train_mode=False)[brain_name]     # reset the environment    \n",
    "states = env_info.vector_observations                  # get the current state (for each agent)\n",
    "scores = np.zeros(num_agents)                          # initialize the score (for each agent)\n",
    "While True:\n",
    "    actions, _, _, _ = policy(states)                  # get an action (for each agent)\n",
    "    env_info = env.step(action.cpu().numpy())[brain_name] # send all actions to tne environment\n",
    "    next_states = env_info.vector_observations         # get next state (for each agent)\n",
    "    rewards = env_info.rewards                         # get reward (for each agent)\n",
    "    dones = env_info.local_done                        # see if episode finished\n",
    "    scores += env_info.rewards                         # update the score (for each agent)\n",
    "    states = next_states                               # roll over states to next time step\n",
    "    if np.any(dones):                                  # exit loop if episode finished\n",
    "        break\n",
    "print('Total score (averaged over agents) this episode: {}'.format(np.mean(scores)))"
   ]
  }
 ],
 "metadata": {
  "kernelspec": {
   "display_name": "deeprl",
   "language": "python",
   "name": "deeprl"
  },
  "language_info": {
   "codemirror_mode": {
    "name": "ipython",
    "version": 3
   },
   "file_extension": ".py",
   "mimetype": "text/x-python",
   "name": "python",
   "nbconvert_exporter": "python",
   "pygments_lexer": "ipython3",
   "version": "3.6.8"
  }
 },
 "nbformat": 4,
 "nbformat_minor": 2
}
